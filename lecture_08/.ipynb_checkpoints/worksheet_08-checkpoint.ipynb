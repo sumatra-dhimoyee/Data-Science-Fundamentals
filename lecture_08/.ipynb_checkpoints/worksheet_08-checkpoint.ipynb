{
 "cells": [
  {
   "cell_type": "markdown",
   "metadata": {},
   "source": [
    "# Worksheet 08\n",
    "\n",
    "Name:  Sumatra Dhimoyee\n",
    "\n",
    "UID:   U26967910\n",
    "\n",
    "### Topics\n",
    "\n",
    "- Soft Clustering\n",
    "- Clustering Aggregation\n",
    "\n",
    "### Probability Review\n",
    "\n",
    "Read through [the following](https://medium.com/@gallettilance/overview-of-probability-3272b72c82c8)\n",
    "\n",
    "### Soft Clustering\n",
    "\n",
    "We generate 10 data points that come from a normal distribution with mean 5 and variance 1."
   ]
  },
  {
   "cell_type": "code",
   "execution_count": 1,
   "metadata": {},
   "outputs": [
    {
     "name": "stdout",
     "output_type": "stream",
     "text": [
      "[5.207276643999312, 5.040991006678501, 5.7106852050157375, 3.8788999930644774, 6.542422255326369, 5.612540824820744, 6.5160486667048065, 5.334576566259185, 5.296687386916833, 4.598331535860882]\n"
     ]
    }
   ],
   "source": [
    "import random\n",
    "import numpy as np\n",
    "from sklearn.cluster import KMeans\n",
    "\n",
    "mean = 5\n",
    "stdev = 1\n",
    "\n",
    "s1 = np.random.normal(mean, stdev, 10).tolist()\n",
    "print(s1)"
   ]
  },
  {
   "cell_type": "markdown",
   "metadata": {},
   "source": [
    "a) Generate 10 more data points, this time coming from a normal distribution with mean 8 and variance 1."
   ]
  },
  {
   "cell_type": "code",
   "execution_count": 2,
   "metadata": {},
   "outputs": [
    {
     "name": "stdout",
     "output_type": "stream",
     "text": [
      "[6.561793244174449, 8.30792532728547, 6.585415806692017, 7.077238394141636, 8.813859460861815, 9.598073450595814, 8.79262305770793, 7.942267841334683, 6.792070229996007, 7.4244576929823545]\n"
     ]
    }
   ],
   "source": [
    "s2 = np.random.normal( 8 , 1 , 10 ).tolist()\n",
    "print(s2)"
   ]
  },
  {
   "cell_type": "markdown",
   "metadata": {},
   "source": [
    "b) Flip a fair coin 10 times. If the coin lands on H, then pick the last data point of `s1` and remove it from `s1`, if T then pick the last data point from `s2` and remove it from `s2`. Add these 10 points to a list called `data`."
   ]
  },
  {
   "cell_type": "code",
   "execution_count": 3,
   "metadata": {},
   "outputs": [
    {
     "name": "stdout",
     "output_type": "stream",
     "text": [
      "[7.4244576929823545, 6.792070229996007, 4.598331535860882, 7.942267841334683, 8.79262305770793, 5.296687386916833, 9.598073450595814, 8.813859460861815, 7.077238394141636, 5.334576566259185]\n"
     ]
    }
   ],
   "source": [
    "data = []\n",
    "for i in range(10):\n",
    "    # flip coin\n",
    "    coin_output = random.choice([0, 1])\n",
    "    if coin_output == 0:\n",
    "        p1 = s1.pop()\n",
    "        data.append(p1)\n",
    "    else:\n",
    "        p2 = s2.pop()\n",
    "        data.append(p2)\n",
    "print(data)"
   ]
  },
  {
   "cell_type": "markdown",
   "metadata": {},
   "source": [
    "c) This `data` is a Gaussian Mixture Distribution with 2 mixture components. Over the next few questions we will walk through the GMM algorithm to see if we can uncover the parameters we used to generate this data. First, please list all these parameters of the GMM that created `data` and the values we know they have."
   ]
  },
  {
   "cell_type": "markdown",
   "metadata": {},
   "source": [
    "The proability of the species, the mean and variance of the species\n",
    "\n",
    "\n"
   ]
  },
  {
   "cell_type": "markdown",
   "metadata": {},
   "source": [
    "d) Let's assume there are two mixture components (note: we could plot the data and make the observation that there are two clusters). The EM algorithm asks us to start with a random `mean_j`, `variance_j`, `P(S_j)` for each component j. One method we could use to find sensible values for these is to apply K means with k=2 here.\n",
    "\n",
    "1. the centroids would be the estimates of the `mean_j`\n",
    "2. the intra-cluster variance could be the estimate of `variance_j`\n",
    "3. the proportion of points in each cluster could be the estimate of `P(S_j)`\n",
    "\n",
    "Go through this process and list the parameter estimates it gives. Are they close or far from the true values?"
   ]
  },
  {
   "cell_type": "code",
   "execution_count": 4,
   "metadata": {},
   "outputs": [
    {
     "name": "stdout",
     "output_type": "stream",
     "text": [
      "[7.4244576929823545, 7.942267841334683, 8.79262305770793, 9.598073450595814, 8.813859460861815, 7.077238394141636]\n",
      "[6.792070229996007, 4.598331535860882, 5.296687386916833, 5.334576566259185]\n",
      "P(S_1) = 0.6,  P(S_2) = 0.4\n",
      "mean_1 = 8.274753316270706,  mean_2 = 5.505416429758227\n",
      "var_1 = 0.7629319848151536,  var_2 = 0.6377587696722338\n"
     ]
    }
   ],
   "source": [
    "kmeans = KMeans(2, init='k-means++').fit(X=np.array(data).reshape(-1, 1))\n",
    "\n",
    "s1 = [x[0] for x in filter(lambda x: x[1] == 0, zip(data, kmeans.labels_))]\n",
    "print(s1)\n",
    "s2 = [x[0] for x in filter(lambda x: x[1] == 1, zip(data, kmeans.labels_))]\n",
    "print(s2)\n",
    "\n",
    "prob_s = [ len(s1) / (len(s1) + len(s2)) , len(s2) / (len(s1) + len(s2)) ]\n",
    "mean = [ sum(s1)/len(s1) , sum(s2)/len(s2) ]\n",
    "var = [ sum(map(lambda x : (x - mean[0])**2, s1)) / len(s1) , sum(map(lambda x : (x - mean[1])**2, s2)) / len(s2) ]\n",
    "\n",
    "print(\"P(S_1) = \" + str(prob_s[0]) + \",  P(S_2) = \" + str(prob_s[1]))\n",
    "print(\"mean_1 = \" + str(mean[0]) + \",  mean_2 = \" + str(mean[1]))\n",
    "print(\"var_1 = \" + str(var[0]) + \",  var_2 = \" + str(var[1]))"
   ]
  },
  {
   "cell_type": "markdown",
   "metadata": {},
   "source": [
    "The values produced are relativitly close to there true value of the values inputted"
   ]
  },
  {
   "cell_type": "markdown",
   "metadata": {},
   "source": [
    "e) For each data point, compute `P(S_j | X_i)`. Comment on which cluster you think each point belongs to based on the estimated probabilities. How does that compare to the truth?"
   ]
  },
  {
   "cell_type": "code",
   "execution_count": 5,
   "metadata": {},
   "outputs": [
    {
     "name": "stdout",
     "output_type": "stream",
     "text": [
      "point =  7.4244576929823545\n",
      "probability of observing that point if it came from cluster 0 =  0.2809948763338073\n",
      "probability of observing that point if it came from cluster 1 =  0.006762907309000958\n",
      "point =  6.792070229996007\n",
      "probability of observing that point if it came from cluster 0 =  0.07912260736458315\n",
      "probability of observing that point if it came from cluster 1 =  0.08173941739495506\n",
      "point =  4.598331535860882\n",
      "probability of observing that point if it came from cluster 0 =  4.743187052818045e-06\n",
      "probability of observing that point if it came from cluster 1 =  0.22749811284433977\n",
      "point =  7.942267841334683\n",
      "probability of observing that point if it came from cluster 0 =  0.4755359489230114\n",
      "probability of observing that point if it came from cluster 1 =  0.0004226293538147006\n",
      "point =  8.79262305770793\n",
      "probability of observing that point if it came from cluster 0 =  0.4153103087788675\n",
      "probability of observing that point if it came from cluster 1 =  1.0649305638253262e-06\n",
      "point =  5.296687386916833\n",
      "probability of observing that point if it came from cluster 0 =  0.0002569039317753886\n",
      "probability of observing that point if it came from cluster 1 =  0.592916806839742\n",
      "point =  9.598073450595814\n",
      "probability of observing that point if it came from cluster 0 =  0.11617815202495065\n",
      "probability of observing that point if it came from cluster 1 =  7.143217124995876e-10\n",
      "point =  8.813859460861815\n",
      "probability of observing that point if it came from cluster 0 =  0.4073791456963693\n",
      "probability of observing that point if it came from cluster 1 =  8.964833658556347e-07\n",
      "point =  7.077238394141636\n",
      "probability of observing that point if it came from cluster 0 =  0.15255822613077982\n",
      "probability of observing that point if it came from cluster 1 =  0.03000844268080506\n",
      "point =  5.334576566259185\n",
      "probability of observing that point if it came from cluster 0 =  0.0003114766588125677\n",
      "probability of observing that point if it came from cluster 1 =  0.6034923178737006\n",
      "7.4244576929823545\n",
      "Probability of coming from S_1 = 0.984208231529735\n",
      "Probability of coming from S_2 = 0.015791768470265016\n",
      "\n",
      "6.792070229996007\n",
      "Probability of coming from S_1 = 0.5921661513635682\n",
      "Probability of coming from S_2 = 0.4078338486364318\n",
      "\n",
      "4.598331535860882\n",
      "Probability of coming from S_1 = 3.1273042177988936e-05\n",
      "Probability of coming from S_2 = 0.999968726957822\n",
      "\n",
      "7.942267841334683\n",
      "Probability of coming from S_1 = 0.9994078553583396\n",
      "Probability of coming from S_2 = 0.000592144641660328\n",
      "\n",
      "8.79262305770793\n",
      "Probability of coming from S_1 = 0.999998290549306\n",
      "Probability of coming from S_2 = 1.7094506940448677e-06\n",
      "\n",
      "5.296687386916833\n",
      "Probability of coming from S_1 = 0.0006495103538559676\n",
      "Probability of coming from S_2 = 0.9993504896461439\n",
      "\n",
      "9.598073450595814\n",
      "Probability of coming from S_1 = 0.999999995900998\n",
      "Probability of coming from S_2 = 4.099001961620532e-09\n",
      "\n",
      "8.813859460861815\n",
      "Probability of coming from S_1 = 0.9999985329276013\n",
      "Probability of coming from S_2 = 1.4670723986409868e-06\n",
      "\n",
      "7.077238394141636\n",
      "Probability of coming from S_1 = 0.8840682569242422\n",
      "Probability of coming from S_2 = 0.11593174307575771\n",
      "\n",
      "5.334576566259185\n",
      "Probability of coming from S_1 = 0.0007735865779035046\n",
      "Probability of coming from S_2 = 0.9992264134220965\n",
      "\n"
     ]
    }
   ],
   "source": [
    "from scipy.stats import norm\n",
    "\n",
    "prob_s0_x = [] # P(S_0 | X_i)\n",
    "prob_s1_x = [] # P(S_1 | X_i)\n",
    "prob_x = [] # P(X_i)\n",
    "\n",
    "k = 2\n",
    "\n",
    "for p in data:\n",
    "    print(\"point = \", p)\n",
    "    pdf_i = []\n",
    "\n",
    "    for j in range(k):\n",
    "        # P(X_i | S_j)\n",
    "        pdf_i.append(norm.pdf(p, mean[j], var[j]))\n",
    "        print(\"probability of observing that point if it came from cluster \" + str(j) + \" = \", pdf_i[j])\n",
    "        # P(S_j) already computed\n",
    "        prob_s[j]\n",
    "    \n",
    "    #pdf_i[0] is pr(p|s_0)\n",
    "    \n",
    "    # P(X_i) = P(S_0)P(X_i | S_0) + P(S_1)P(X_i | S_1)\n",
    "    prob_x = prob_s[0] * pdf_i[0] + prob_s[1] * pdf_i[1]\n",
    "    \n",
    "    # P(S_j | X_i) = P(X_i | S_j)P(S_j) / P(X_i)\n",
    "    prob_s0_x.append( (pdf_i[0]* prob_s[0]/prob_x))\n",
    "    prob_s1_x.append( (pdf_i[1]* prob_s[1]/prob_x) )\n",
    "\n",
    "probs = zip(data, prob_s0_x, prob_s1_x)\n",
    "for p in probs:\n",
    "    print(p[0])\n",
    "    print(\"Probability of coming from S_1 = \" + str(p[1]))\n",
    "    print(\"Probability of coming from S_2 = \" + str(p[2]))\n",
    "    print()\n"
   ]
  },
  {
   "cell_type": "markdown",
   "metadata": {},
   "source": [
    "f) Having computed `P(S_j | X_i)`, update the estimates of `mean_j`, `var_j`, and `P(S_j)`. How different are these values from the original ones you got from K means? briefly comment."
   ]
  },
  {
   "cell_type": "code",
   "execution_count": 6,
   "metadata": {},
   "outputs": [
    {
     "name": "stdout",
     "output_type": "stream",
     "text": [
      "P(S_1) = 0.6,  P(S_2) = 0.4\n",
      "mean_1 = 8.161793784343129,  mean_2 = 5.350660610520558\n",
      "var_1 = 0.8716618594245422,  var_2 = 0.5182759389790692\n"
     ]
    }
   ],
   "source": [
    "prob_c = [sum(prob_s0_x)/ len(prob_s0_x), sum(prob_s1_x)/ len(prob_s1_x) ]\n",
    "mean = [sum([x[0] * x[1] for x in zip(prob_s0_x, data)]) / sum(prob_s0_x), sum([x[0] * x[1] for x in zip(prob_s1_x, data)]) / sum(prob_s1_x), ] #Look at GMM Clustering uj equation\n",
    "var = [sum([x[0] * (x[1] - mean[0])**2 for x in zip(prob_s0_x, data)]) / sum(prob_s0_x) , sum([x[0] * (x[1] - mean[1])**2 for x in zip(prob_s1_x, data)]) / sum(prob_s1_x) ]\n",
    "\n",
    "print(\"P(S_1) = \" + str(prob_s[0]) + \",  P(S_2) = \" + str(prob_s[1]))\n",
    "print(\"mean_1 = \" + str(mean[0]) + \",  mean_2 = \" + str(mean[1]))\n",
    "print(\"var_1 = \" + str(var[0]) + \",  var_2 = \" + str(var[1]))"
   ]
  },
  {
   "cell_type": "markdown",
   "metadata": {},
   "source": [
    "For all values, there is noticable changes when compared to before in which all the values output above have increased in value."
   ]
  },
  {
   "cell_type": "markdown",
   "metadata": {},
   "source": [
    "g) Update `P(S_j | X_i)`. Comment on any differences or lack thereof you observe."
   ]
  },
  {
   "cell_type": "code",
   "execution_count": 7,
   "metadata": {},
   "outputs": [
    {
     "name": "stdout",
     "output_type": "stream",
     "text": [
      "point =  7.4244576929823545\n",
      "probability of observing that point if it came from cluster 0 =  0.32002516822090593\n",
      "probability of observing that point if it came from cluster 1 =  0.0002568436631859319\n",
      "point =  6.792070229996007\n",
      "probability of observing that point if it came from cluster 0 =  0.13315742741220077\n",
      "probability of observing that point if it came from cluster 1 =  0.016096980798222724\n",
      "point =  4.598331535860882\n",
      "probability of observing that point if it came from cluster 0 =  0.00010750577369726864\n",
      "probability of observing that point if it came from cluster 1 =  0.26840411142279175\n",
      "point =  7.942267841334683\n",
      "probability of observing that point if it came from cluster 0 =  0.4433931491644272\n",
      "probability of observing that point if it came from cluster 1 =  2.862296523628604e-06\n",
      "point =  8.79262305770793\n",
      "probability of observing that point if it came from cluster 0 =  0.35223314808577477\n",
      "probability of observing that point if it came from cluster 1 =  2.0371287048446265e-10\n",
      "point =  5.296687386916833\n",
      "probability of observing that point if it came from cluster 0 =  0.0020629972927492576\n",
      "probability of observing that point if it came from cluster 1 =  0.7655860816954673\n",
      "point =  9.598073450595814\n",
      "probability of observing that point if it came from cluster 0 =  0.11775811155288374\n",
      "probability of observing that point if it came from cluster 1 =  2.005383030311149e-15\n",
      "point =  8.813859460861815\n",
      "probability of observing that point if it came from cluster 0 =  0.34597437980307444\n",
      "probability of observing that point if it came from cluster 1 =  1.550502388030814e-10\n",
      "point =  7.077238394141636\n",
      "probability of observing that point if it came from cluster 0 =  0.2110522053286371\n",
      "probability of observing that point if it came from cluster 1 =  0.0029951495942124955\n",
      "point =  5.334576566259185\n",
      "probability of observing that point if it came from cluster 0 =  0.0023775995615172695\n",
      "probability of observing that point if it came from cluster 1 =  0.7693782159512409\n",
      "7.4244576929823545\n",
      "Probability of coming from S_1 = 0.9994652372412102\n",
      "Probability of coming from S_2 = 0.000534762758789918\n",
      "\n",
      "6.792070229996007\n",
      "Probability of coming from S_1 = 0.9254193209305084\n",
      "Probability of coming from S_2 = 0.07458067906949162\n",
      "\n",
      "4.598331535860882\n",
      "Probability of coming from S_1 = 0.0006004447278361439\n",
      "Probability of coming from S_2 = 0.9993995552721638\n",
      "\n",
      "7.942267841334683\n",
      "Probability of coming from S_1 = 0.99999569639388\n",
      "Probability of coming from S_2 = 4.303606119949805e-06\n",
      "\n",
      "8.79262305770793\n",
      "Probability of coming from S_1 = 0.9999999996144355\n",
      "Probability of coming from S_2 = 3.8556445073006147e-10\n",
      "\n",
      "5.296687386916833\n",
      "Probability of coming from S_1 = 0.004025724116311575\n",
      "Probability of coming from S_2 = 0.9959742758836884\n",
      "\n",
      "9.598073450595814\n",
      "Probability of coming from S_1 = 0.9999999999999886\n",
      "Probability of coming from S_2 = 1.1353120414189235e-14\n",
      "\n",
      "8.813859460861815\n",
      "Probability of coming from S_1 = 0.9999999997012299\n",
      "Probability of coming from S_2 = 2.9877017453336725e-10\n",
      "\n",
      "7.077238394141636\n",
      "Probability of coming from S_1 = 0.9906276647102472\n",
      "Probability of coming from S_2 = 0.009372335289752674\n",
      "\n",
      "5.334576566259185\n",
      "Probability of coming from S_1 = 0.004614042548082963\n",
      "Probability of coming from S_2 = 0.995385957451917\n",
      "\n"
     ]
    }
   ],
   "source": [
    "from scipy.stats import norm\n",
    "\n",
    "prob_s0_x = [] # P(S_0 | X_i)\n",
    "prob_s1_x = [] # P(S_1 | X_i)\n",
    "prob_x = [] # P(X_i)\n",
    "\n",
    "k = 2\n",
    "\n",
    "for p in data:\n",
    "    print(\"point = \", p)\n",
    "    pdf_i = []\n",
    "\n",
    "    for j in range(k):\n",
    "        # P(X_i | S_j)\n",
    "        pdf_i.append(norm.pdf(p, mean[j], var[j]))\n",
    "        print(\"probability of observing that point if it came from cluster \" + str(j) + \" = \", pdf_i[j])\n",
    "        # P(S_j) already computed\n",
    "        prob_s[j]\n",
    "    \n",
    "    #pdf_i[0] is pr(p|s_0)\n",
    "    \n",
    "    # P(X_i) = P(S_0)P(X_i | S_0) + P(S_1)P(X_i | S_1)\n",
    "    prob_x = prob_s[0] * pdf_i[0] + prob_s[1] * pdf_i[1]\n",
    "    \n",
    "    # P(S_j | X_i) = P(X_i | S_j)P(S_j) / P(X_i)\n",
    "    prob_s0_x.append( (pdf_i[0]* prob_s[0]/prob_x))\n",
    "    prob_s1_x.append( (pdf_i[1]* prob_s[1]/prob_x) )\n",
    "\n",
    "probs = zip(data, prob_s0_x, prob_s1_x)\n",
    "for p in probs:\n",
    "    print(p[0])\n",
    "    print(\"Probability of coming from S_1 = \" + str(p[1]))\n",
    "    print(\"Probability of coming from S_2 = \" + str(p[2]))\n",
    "    print()\n"
   ]
  },
  {
   "cell_type": "markdown",
   "metadata": {},
   "source": [
    "The majority of probabilities also increased for S_1 while the probability coming from S_2 decreased (although negliable)"
   ]
  },
  {
   "cell_type": "markdown",
   "metadata": {},
   "source": [
    "h) Use `P(S_j | X_i)` to create a hard assignment - label each point as belonging to a specific cluster (0 or 1)"
   ]
  },
  {
   "cell_type": "code",
   "execution_count": 9,
   "metadata": {},
   "outputs": [
    {
     "name": "stdout",
     "output_type": "stream",
     "text": [
      "Point 7.4244576929823545 belongs to cluster 0\n",
      "Point 6.792070229996007 belongs to cluster 0\n",
      "Point 4.598331535860882 belongs to cluster 1\n",
      "Point 7.942267841334683 belongs to cluster 0\n",
      "Point 8.79262305770793 belongs to cluster 0\n",
      "Point 5.296687386916833 belongs to cluster 1\n",
      "Point 9.598073450595814 belongs to cluster 0\n",
      "Point 8.813859460861815 belongs to cluster 0\n",
      "Point 7.077238394141636 belongs to cluster 0\n",
      "Point 5.334576566259185 belongs to cluster 1\n"
     ]
    }
   ],
   "source": [
    "\n",
    "hard_assignments = [] \n",
    "\n",
    "for p, prob_s0, prob_s1 in zip(data, prob_s0_x, prob_s1_x):\n",
    "    if prob_s0 > prob_s1:\n",
    "        hard_assignments.append(0)\n",
    "    else:\n",
    "        hard_assignments.append(1)\n",
    "\n",
    "for i, assignment in enumerate(hard_assignments):\n",
    "    print(f\"Point {data[i]} belongs to cluster {assignment}\")\n"
   ]
  },
  {
   "cell_type": "code",
   "execution_count": null,
   "metadata": {},
   "outputs": [],
   "source": []
  }
 ],
 "metadata": {
  "kernelspec": {
   "display_name": "Python 3 (ipykernel)",
   "language": "python",
   "name": "python3"
  },
  "language_info": {
   "codemirror_mode": {
    "name": "ipython",
    "version": 3
   },
   "file_extension": ".py",
   "mimetype": "text/x-python",
   "name": "python",
   "nbconvert_exporter": "python",
   "pygments_lexer": "ipython3",
   "version": "3.9.6"
  },
  "vscode": {
   "interpreter": {
    "hash": "e7370f93d1d0cde622a1f8e1c04877d8463912d04d973331ad4851f04de6915a"
   }
  }
 },
 "nbformat": 4,
 "nbformat_minor": 4
}
