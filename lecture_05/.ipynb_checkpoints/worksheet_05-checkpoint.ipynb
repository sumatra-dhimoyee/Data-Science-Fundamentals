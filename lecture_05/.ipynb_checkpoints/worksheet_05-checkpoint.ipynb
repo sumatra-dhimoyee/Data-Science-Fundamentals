{
 "cells": [
  {
   "attachments": {},
   "cell_type": "markdown",
   "metadata": {},
   "source": [
    "# Worksheet 05\n",
    "\n",
    "Name: Sumatra K Dhimoyee \n",
    "UID: U26967910\n",
    "\n",
    "### Topics\n",
    "\n",
    "- Cost Functions\n",
    "- Kmeans\n",
    "\n",
    "### Cost Function\n",
    "\n",
    "Solving Data Science problems often starts by defining a metric with which to evaluate solutions were you able to find some. This metric is called a cost function. Data Science then backtracks and tries to find a process / algorithm to find solutions that can optimize for that cost function.\n",
    "\n",
    "For example suppose you are asked to cluster three points A, B, C into two non-empty clusters. If someone gave you the solution `{A, B}, {C}`, how would you evaluate that this is a good solution?\n",
    "\n",
    "Notice that because the clusters need to be non-empty and all points must be assigned to a cluster, it must be that two of the three points will be together in one cluster and the third will be alone in the other cluster.\n",
    "\n",
    "In the above solution, if A and B are closer than A and C, and B and C, then this is a good solution. The smaller the distance between the two points in the same cluster (here A and B), the better the solution. So we can define our cost function to be that distance (between A and B here)!\n",
    "\n",
    "The algorithm / process would involve clustering together the two closest points and put the third in its own cluster. This process optimizes for that cost function because no other pair of points could have a lower distance (although it could equal it)."
   ]
  },
  {
   "cell_type": "markdown",
   "metadata": {},
   "source": [
    "### K means\n",
    "\n",
    "a) (1-dimensional clustering) Walk through Lloyd's algorithm step by step on the following dataset:\n",
    "\n",
    "`[0, .5, 1.5, 2, 6, 6.5, 7]` (note: each of these are 1-dimensional data points)\n",
    "\n",
    "Given the initial centroids:\n",
    "\n",
    "`[0, 2]`"
   ]
  },
  {
   "cell_type": "markdown",
   "metadata": {},
   "source": [
    "The first round will give us two clusters (0, 0.5) and (1.5, 2, 6, 6.5, 7) with new centroids at 0.25 and 4.6\n",
    "The second round will give us two clusters (0,0.5, 1.5, 2) and (6, 6.5, 7) with new centroids at 1 and 6.5. \n",
    "The algorithm has converged by this point, and the centroids won't change with new rounds."
   ]
  },
  {
   "cell_type": "markdown",
   "metadata": {},
   "source": [
    "b) Describe in plain english what the cost function for k means is."
   ]
  },
  {
   "cell_type": "markdown",
   "metadata": {},
   "source": [
    "It calculates the distance between each data point and the centroid in that specific cluster. It tries to minimize the distance to find compact clusters with the closest data points."
   ]
  },
  {
   "cell_type": "markdown",
   "metadata": {},
   "source": [
    "c) For the same number of clusters K, why could there be very different solutions to the K means algorithm on a given dataset?"
   ]
  },
  {
   "cell_type": "markdown",
   "metadata": {},
   "source": [
    "If the data points are densely populated in one region and contain outliers, the initial centroid choice will greatly influence which points the clusters converge. The k-means technique can yield various results for the same number of clusters on a given dataset depending on its initialization, the distribution of data points, and the existence of outliers."
   ]
  },
  {
   "cell_type": "markdown",
   "metadata": {},
   "source": [
    "d) Does Lloyd's Algorithm always converge? Why / why not?"
   ]
  },
  {
   "cell_type": "markdown",
   "metadata": {},
   "source": [
    "No. The algorithm will struggle to converge if clusters form complex shapes such as spirals, if the data points have different densities or sizes across clusters, if the data contain many outliers, or if there is no proper initialization of centroids."
   ]
  },
  {
   "attachments": {},
   "cell_type": "markdown",
   "metadata": {},
   "source": [
    "e) Follow along in class the implementation of Kmeans"
   ]
  },
  {
   "cell_type": "code",
   "execution_count": 1,
   "metadata": {},
   "outputs": [
    {
     "name": "stdout",
     "output_type": "stream",
     "text": [
      "[[ 1.83329012 -4.16630999]\n",
      " [ 1.25724333  0.92846853]\n",
      " [-2.98336083  1.37875497]\n",
      " [-1.3506666   2.87587061]]\n",
      "[[ 1.80375063 -4.10800509]\n",
      " [ 1.24539452  1.06153028]\n",
      " [-3.10155532  1.54141092]\n",
      " [-1.32339914  2.47699442]]\n",
      "[[ 1.80582124 -4.04080901]\n",
      " [ 1.28077416  1.10997533]\n",
      " [-3.28860394  1.54673043]\n",
      " [-1.39212997  2.02399162]]\n",
      "[[ 1.77224473 -4.0111356 ]\n",
      " [ 1.38476756  1.18521237]\n",
      " [-3.48051651  1.66798646]\n",
      " [-1.38201497  1.53177849]]\n",
      "[[ 1.78863971 -4.0086992 ]\n",
      " [ 1.56378546  1.35070233]\n",
      " [-3.57705858  1.78431564]\n",
      " [-1.27843678  1.04915322]]\n",
      "[[ 1.82416454 -4.00058334]\n",
      " [ 1.67091906  1.54426338]\n",
      " [-3.49182514  1.87149177]\n",
      " [-1.0596207   0.66243957]]\n",
      "[[ 1.84180743 -4.03258775]\n",
      " [ 1.77704065  1.66778766]\n",
      " [-3.2608491   1.91559847]\n",
      " [-0.66166866  0.29130895]]\n",
      "[[ 1.84180743 -4.03258775]\n",
      " [ 1.86471673  1.81986805]\n",
      " [-3.1319776   1.87800012]\n",
      " [-0.33425114  0.12218462]]\n",
      "[[ 1.84126343 -4.06791444]\n",
      " [ 1.90165131  1.93255625]\n",
      " [-3.07703402  1.85266958]\n",
      " [-0.11632593  0.03996848]]\n",
      "[[ 1.84585117 -4.10098602]\n",
      " [ 1.904406    1.98450725]\n",
      " [-3.07703402  1.85266958]\n",
      " [-0.03760357  0.01175879]]\n",
      "[[ 1.84585117 -4.10098602]\n",
      " [ 1.91248297  2.00204407]\n",
      " [-3.07703402  1.85266958]\n",
      " [-0.01886062  0.02039989]]\n",
      "[[ 1.84585117 -4.10098602]\n",
      " [ 1.91248297  2.00204407]\n",
      " [-3.07703402  1.85266958]\n",
      " [-0.01886062  0.02039989]]\n"
     ]
    }
   ],
   "source": [
    "import numpy as np\n",
    "from PIL import Image as im\n",
    "import matplotlib.pyplot as plt\n",
    "import sklearn.datasets as datasets\n",
    "\n",
    "centers = [[0, 0], [2, 2], [-3, 2], [2, -4]]\n",
    "X, _ = datasets.make_blobs(n_samples=300, centers=centers, cluster_std=1, random_state=0)\n",
    "\n",
    "class KMeans():\n",
    "\n",
    "    def __init__(self, data, k):\n",
    "        self.data = data\n",
    "        self.k = k\n",
    "        self.assignment = [-1 for _ in range(len(data))]\n",
    "        self.snaps = []\n",
    "    \n",
    "    def snap(self, centers):\n",
    "        TEMPFILE = \"temp.png\"\n",
    "\n",
    "        fig, ax = plt.subplots()\n",
    "        ax.scatter(X[:, 0], X[:, 1], c=self.assignment)\n",
    "        ax.scatter(centers[:,0], centers[:, 1], c='r')\n",
    "        fig.savefig(TEMPFILE)\n",
    "        plt.close()\n",
    "        self.snaps.append(im.fromarray(np.asarray(im.open(TEMPFILE))))\n",
    "        \n",
    "    def is_unassigned(self, i):\n",
    "        return self.assignment[i] == -1\n",
    "    \n",
    "    def unassign_all(self):\n",
    "        self.assignment = [-1 for _ in range(len(self.data))]\n",
    "        \n",
    "    def initialize(self):\n",
    "        return self.data[np.random.choice(range(len(self.data)), size=self.k, replace=False)]\n",
    "    \n",
    "    def are_centers_diff(self, c1, c2):\n",
    "        for i in range(len(c1)):\n",
    "            if c1[i] not in c2:\n",
    "                return True\n",
    "        return False\n",
    "    \n",
    "    def assign(self, centers):\n",
    "        for i in range(len(self.data)):\n",
    "            self.assignment[i] = 0\n",
    "            temp_assign = 0\n",
    "            temp_dist = self.dist(self.data[i], centers[0])\n",
    "            for j in range(1, len(centers)):\n",
    "                new_dist = self.dist(self.data[i], centers[j])\n",
    "                if temp_dist > new_dist:\n",
    "                    self.assignment[i] = j\n",
    "                    temp_dist = new_dist\n",
    "    \n",
    "    def calculate_new_centers(self):\n",
    "        centers = []\n",
    "        for j in range(self.k):\n",
    "            cluster_j = self.data[\n",
    "                np.array([i for i in range(len(self.data)) if self.assignment[i] == j])\n",
    "            ]\n",
    "            centers.append(np.mean(cluster_j,axis=0))\n",
    "        \n",
    "        return np.array(centers)\n",
    "\n",
    "    def dist(self, x, y):\n",
    "        return sum((x - y) ** 2) ** (1/2)\n",
    "\n",
    "    def lloyds(self):\n",
    "        centers = self.initialize()\n",
    "        self.assign(centers)\n",
    "        self.snap(centers)\n",
    "        new_centers = self.calculate_new_centers()\n",
    "        while self.are_centers_diff(centers, new_centers):\n",
    "            centers = new_centers\n",
    "            self.snap(centers)\n",
    "            self.unassign_all()\n",
    "            self.assign(centers)\n",
    "            new_centers = self.calculate_new_centers()\n",
    "            print (new_centers)\n",
    "        return\n",
    "            \n",
    "kmeans = KMeans(X, 4)\n",
    "kmeans.lloyds()\n",
    "images = kmeans.snaps\n",
    "\n",
    "images[0].save(\n",
    "    'kmeans.gif',\n",
    "    optimize=False,\n",
    "    save_all=True,\n",
    "    append_images=images[1:],\n",
    "    loop=0,\n",
    "    duration=500\n",
    ")"
   ]
  },
  {
   "cell_type": "code",
   "execution_count": null,
   "metadata": {},
   "outputs": [],
   "source": []
  }
 ],
 "metadata": {
  "kernelspec": {
   "display_name": "Python 3 (ipykernel)",
   "language": "python",
   "name": "python3"
  },
  "language_info": {
   "codemirror_mode": {
    "name": "ipython",
    "version": 3
   },
   "file_extension": ".py",
   "mimetype": "text/x-python",
   "name": "python",
   "nbconvert_exporter": "python",
   "pygments_lexer": "ipython3",
   "version": "3.9.6"
  },
  "vscode": {
   "interpreter": {
    "hash": "76ca05dc3ea24b2e3b98cdb7774adfbb40773424bf5109b477fd793f623715af"
   }
  }
 },
 "nbformat": 4,
 "nbformat_minor": 4
}
