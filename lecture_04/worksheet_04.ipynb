{
 "cells": [
  {
   "attachments": {},
   "cell_type": "markdown",
   "metadata": {},
   "source": [
    "# Worksheet 04\n",
    "\n",
    "Name:  Sumatra K Dhimoyee\n",
    "UID: U26967910\n",
    "\n",
    "### Topics\n",
    "\n",
    "- Distance & Similarity"
   ]
  },
  {
   "cell_type": "markdown",
   "metadata": {},
   "source": [
    "### Distance & Similarity\n",
    "\n",
    "#### Part 1\n",
    "\n",
    "a) In the minkowski distance, describe what the parameters p and d are."
   ]
  },
  {
   "cell_type": "markdown",
   "metadata": {},
   "source": [
    "d = no. of dimensions (characteristics of the dataset),\n",
    "p = parameterizes the distance function"
   ]
  },
  {
   "cell_type": "markdown",
   "metadata": {},
   "source": [
    "b) In your own words describe the difference between the Euclidean distance and the Manhattan distance."
   ]
  },
  {
   "cell_type": "markdown",
   "metadata": {},
   "source": [
    "Euclidean distance is the diagonal distance between two points while Manhattan distance is the distance when you can only move up or down but not diagonally."
   ]
  },
  {
   "attachments": {},
   "cell_type": "markdown",
   "metadata": {},
   "source": [
    "Consider A = (0, 0) and B = (1, 1). When:\n",
    "\n",
    "- p = 1, d(A, B) = 2\n",
    "- p = 2, d(A, B) = $\\sqrt{2} = 1.41$\n",
    "- p = 3, d(A, B) = $2^{1/3} = 1.26$\n",
    "- p = 4, d(A, B) = $2^{1/4} = 1.19$\n",
    "\n",
    "c) Describe what you think distance would look like when p is very large."
   ]
  },
  {
   "cell_type": "markdown",
   "metadata": {},
   "source": [
    "The distance will convergence towards zero but never become equal to zero."
   ]
  },
  {
   "cell_type": "markdown",
   "metadata": {},
   "source": [
    "d) Is the minkowski distance still a distance function when p < 1? Expain why / why not."
   ]
  },
  {
   "cell_type": "markdown",
   "metadata": {},
   "source": [
    "No. If there are 3 points A(0,0), B(1,0) and C(0,1), and p =0.5, then D(B,A) + D(A,C)=2 and D(B,C)=2^(1/0.5)=4. Thus D(B,C)>D(B,A)+D(A,C) which violates the triangle inequality of distance function"
   ]
  },
  {
   "cell_type": "markdown",
   "metadata": {},
   "source": [
    "e) when would you use cosine similarity over the euclidan distance?"
   ]
  },
  {
   "cell_type": "markdown",
   "metadata": {},
   "source": [
    "This is important when the direction matters more than magnitude."
   ]
  },
  {
   "cell_type": "markdown",
   "metadata": {},
   "source": [
    "f) what does the jaccard distance account for that the manhattan distance doesn't?"
   ]
  },
  {
   "cell_type": "markdown",
   "metadata": {},
   "source": [
    "The jaccard distance accounts for degree of dissimilarity between two sets which Manhattan distance doesn't."
   ]
  },
  {
   "attachments": {},
   "cell_type": "markdown",
   "metadata": {},
   "source": [
    "#### Part 2\n",
    "\n",
    "Consider the following two sentences:"
   ]
  },
  {
   "cell_type": "code",
   "execution_count": 59,
   "metadata": {},
   "outputs": [],
   "source": [
    "s1 = \"hello my name is Alice\"  \n",
    "s2 = \"hello my name is Bob\""
   ]
  },
  {
   "cell_type": "markdown",
   "metadata": {},
   "source": [
    "using the union of words from both sentences, we can represent each sentence as a vector. Each element of the vector represents the presence or absence of the word at that index.\n",
    "\n",
    "In this example, the union of words is (\"hello\", \"my\", \"name\", \"is\", \"Alice\", \"Bob\") so we can represent the above sentences as such:"
   ]
  },
  {
   "cell_type": "code",
   "execution_count": 60,
   "metadata": {},
   "outputs": [],
   "source": [
    "v1 = [1,    1, 1,   1, 1,    0]\n",
    "#     hello my name is Alice\n",
    "v2 = [1,    1, 1,   1, 0, 1]\n",
    "#     hello my name is    Bob"
   ]
  },
  {
   "attachments": {},
   "cell_type": "markdown",
   "metadata": {},
   "source": [
    "Programmatically, we can do the following:"
   ]
  },
  {
   "cell_type": "code",
   "execution_count": 61,
   "metadata": {},
   "outputs": [
    {
     "name": "stdout",
     "output_type": "stream",
     "text": [
      "['Alice', 'is', 'hello', 'name', 'Bob', 'my']\n",
      "[1, 1, 1, 1, 0, 1]\n"
     ]
    }
   ],
   "source": [
    "corpus = [s1, s2]\n",
    "all_words = list(set([item for x in corpus for item in x.split()]))\n",
    "print(all_words)\n",
    "v1 = [1 if x in s1 else 0 for x in all_words]\n",
    "print(v1)"
   ]
  },
  {
   "cell_type": "markdown",
   "metadata": {},
   "source": [
    "Let's add a new sentence to our corpus:"
   ]
  },
  {
   "cell_type": "code",
   "execution_count": 62,
   "metadata": {},
   "outputs": [],
   "source": [
    "s3 = \"hi my name is Claude\"\n",
    "corpus.append(s3)"
   ]
  },
  {
   "cell_type": "markdown",
   "metadata": {},
   "source": [
    "a) What is the new union of words used to represent s1, s2, and s3?"
   ]
  },
  {
   "cell_type": "code",
   "execution_count": 63,
   "metadata": {},
   "outputs": [
    {
     "name": "stdout",
     "output_type": "stream",
     "text": [
      "['Alice', 'is', 'hello', 'hi', 'Claude', 'name', 'Bob', 'my']\n"
     ]
    }
   ],
   "source": [
    "all_words = list(set([item for x in corpus for item in x.split()]))\n",
    "print(all_words)"
   ]
  },
  {
   "attachments": {},
   "cell_type": "markdown",
   "metadata": {},
   "source": [
    "b) Represent s1, s2, and s3 as vectors as above, using this new set of words."
   ]
  },
  {
   "cell_type": "code",
   "execution_count": 64,
   "metadata": {},
   "outputs": [
    {
     "name": "stdout",
     "output_type": "stream",
     "text": [
      "[1, 1, 1, 0, 0, 1, 0, 1]\n",
      "[0, 1, 1, 0, 0, 1, 1, 1]\n",
      "[0, 1, 0, 1, 1, 1, 0, 1]\n"
     ]
    }
   ],
   "source": [
    "v1 = [1 if x in s1 else 0 for x in all_words]\n",
    "print(v1)\n",
    "v2 = [1 if x in s2 else 0 for x in all_words]\n",
    "print(v2)\n",
    "v3 = [1 if x in s3 else 0 for x in all_words]\n",
    "print(v3)"
   ]
  },
  {
   "cell_type": "markdown",
   "metadata": {},
   "source": [
    "c) Write a function that computes the manhattan distance between two vectors. Which pair of vectors are the most similar under that distance function?"
   ]
  },
  {
   "cell_type": "code",
   "execution_count": 65,
   "metadata": {},
   "outputs": [
    {
     "name": "stdout",
     "output_type": "stream",
     "text": [
      "1.4142135623730951\n",
      "2.0\n",
      "manhattan distance between v1 and v2: 2.0\n",
      "manhattan distance between v1 and v3: 4.0\n",
      "manhattan distance between v1 and v2: 4.0\n",
      "Comment: v1 and v2 are most similar under the distance function\n"
     ]
    }
   ],
   "source": [
    "def minkowski(x, y, p):\n",
    "    if len(x) != len(y):\n",
    "        raise RuntimeError (\"x and u should be same dimension\")\n",
    "    res = 0\n",
    "    for i in range(len(x)):\n",
    "        res += abs(x[i]-y[i]) **p\n",
    "    return res ** (1/p)\n",
    "\n",
    "print(minkowski([0,0], [1, 1], 2)) # euclidan distance\n",
    "print(minkowski([0,0], [1, 1], 1)) # manhattan distance\n",
    "\n",
    "print(\"manhattan distance between v1 and v2:\",minkowski(v1, v2, 1))\n",
    "print(\"manhattan distance between v1 and v3:\",minkowski(v1, v3, 1))\n",
    "print(\"manhattan distance between v1 and v2:\",minkowski(v2, v3, 1))\n",
    "print(\"Comment: v1 and v2 are most similar under the distance function\")"
   ]
  },
  {
   "cell_type": "markdown",
   "metadata": {},
   "source": []
  },
  {
   "cell_type": "markdown",
   "metadata": {},
   "source": [
    "d) Create a matrix of all these vectors (row major) and add the following sentences in vector form:\n",
    "\n",
    "- \"hi Alice\"\n",
    "- \"hello Claude\"\n",
    "- \"Bob my name is Claude\"\n",
    "- \"hi Claude my name is Alice\"\n",
    "- \"hello Bob\""
   ]
  },
  {
   "cell_type": "code",
   "execution_count": 66,
   "metadata": {},
   "outputs": [
    {
     "name": "stdout",
     "output_type": "stream",
     "text": [
      "[[1 0 0 0 1 0 0 0]\n",
      " [0 1 0 1 0 0 0 0]\n",
      " [0 0 1 1 0 1 1 1]\n",
      " [1 0 0 1 1 1 1 1]\n",
      " [0 1 1 0 0 0 0 0]]\n"
     ]
    }
   ],
   "source": [
    "import numpy as np\n",
    "sr1=\"hi Alice\"\n",
    "sr2=\"hello Claude\"\n",
    "sr3=\"Bob my name is Claude\"\n",
    "sr4=\"hi Claude my name is Alice\"\n",
    "sr5=\"hello Bob\"\n",
    "\n",
    "word_list=[\"hi\", \"hello\", \"Bob\", \"Claude\", \"Alice\", \"my\", \"name\", \"is\"]\n",
    "\n",
    "def create_vector(sr):\n",
    "    words = sr.split()\n",
    "    v = [1 if word in words else 0 for word in word_list]\n",
    "    return v\n",
    "\n",
    "vectors = [create_vector(sr) for sr in [sr1, sr2, sr3, sr4, sr5]]\n",
    "matrix = np.array(vectors)\n",
    "print(matrix)"
   ]
  },
  {
   "cell_type": "markdown",
   "metadata": {},
   "source": [
    "e) How many rows and columns does this matrix have?"
   ]
  },
  {
   "cell_type": "code",
   "execution_count": 67,
   "metadata": {},
   "outputs": [
    {
     "name": "stdout",
     "output_type": "stream",
     "text": [
      "column=8 (representing the number of words)\n",
      "rows=5 (representing the number of strings)\n"
     ]
    }
   ],
   "source": [
    "print(\"column=8 (representing the number of words)\")\n",
    "print(\"rows=5 (representing the number of strings)\")"
   ]
  },
  {
   "attachments": {},
   "cell_type": "markdown",
   "metadata": {},
   "source": [
    "f) When using the Manhattan distance, which two sentences are the most similar?"
   ]
  },
  {
   "cell_type": "code",
   "execution_count": 71,
   "metadata": {},
   "outputs": [
    {
     "name": "stdout",
     "output_type": "stream",
     "text": [
      "Distance Matrix:\n",
      "[[0. 4. 7. 4. 4.]\n",
      " [4. 0. 5. 6. 2.]\n",
      " [7. 5. 0. 3. 5.]\n",
      " [4. 6. 3. 0. 8.]\n",
      " [4. 2. 5. 8. 0.]]\n",
      "Comments: Sentences 2 and 5 has highest level of similarties\n"
     ]
    }
   ],
   "source": [
    "def distance_matrix(matrix, p):\n",
    "    num_vectors = matrix.shape[0]\n",
    "    distances = np.zeros((num_vectors, num_vectors))\n",
    "    \n",
    "    for i in range(num_vectors):\n",
    "        for j in range(i + 1, num_vectors):\n",
    "            dist = minkowski(matrix[i], matrix[j], p)\n",
    "            distances[i, j] = dist\n",
    "            distances[j, i] = dist\n",
    "    \n",
    "    return distances\n",
    "\n",
    "distances = distance_matrix(matrix, 1)\n",
    "\n",
    "# Print the distance matrix\n",
    "print(\"Distance Matrix:\")\n",
    "print(distances)\n",
    "print(\"Comments: Sentences 2 and 5 has highest level of similarties based on Manhattan distance\")"
   ]
  },
  {
   "cell_type": "code",
   "execution_count": 69,
   "metadata": {},
   "outputs": [
    {
     "name": "stdout",
     "output_type": "stream",
     "text": [
      "Strings with the most similarity (based on Manhattan distance):\n",
      "String 2 and String 5 with distance: 2\n"
     ]
    }
   ],
   "source": [
    "def manhattan_distance(x, y):\n",
    "    if len(x) != len(y):\n",
    "        raise RuntimeError(\"x and y should be of the same length\")\n",
    "    return sum(abs(a - b) for a, b in zip(x, y))\n",
    "\n",
    "# Define the strings\n",
    "sr1 = \"hi Alice\"\n",
    "sr2 = \"hello Claude\"\n",
    "sr3 = \"Bob my name is Claude\"\n",
    "sr4 = \"hi Claude my name is Alice\"\n",
    "sr5 = \"hello Bob\"\n",
    "\n",
    "# Tokenize strings into vectors\n",
    "vocabulary = [\"hi\", \"hello\", \"Alice\", \"Bob\", \"Claude\", \"my\", \"name\", \"is\"]\n",
    "vectors = [[1 if word in string.split() else 0 for word in vocabulary] for string in [sr1, sr2, sr3, sr4, sr5]]\n",
    "\n",
    "# Calculate Manhattan distance between each pair of vectors\n",
    "distances = {}\n",
    "for i in range(len(vectors)):\n",
    "    for j in range(i + 1, len(vectors)):\n",
    "        distances[(i+1, j+1)] = manhattan_distance(vectors[i], vectors[j])\n",
    "\n",
    "# Find the pair with the smallest Manhattan distance\n",
    "closest_pair = min(distances, key=distances.get)\n",
    "\n",
    "# Print the result\n",
    "print(\"Strings with the most similarity (based on Manhattan distance):\")\n",
    "print(\"String\", closest_pair[0], \"and String\", closest_pair[1], \"with distance:\", distances[closest_pair])"
   ]
  },
  {
   "cell_type": "markdown",
   "metadata": {},
   "source": [
    "#### Part 3 Challenge"
   ]
  },
  {
   "cell_type": "markdown",
   "metadata": {},
   "source": [
    "Given a set of graphs $\\mathcal{G}$, each graph $G \\in \\mathcal{G}$ is defined over the same set of nodes $V$. The graphs are represented by their adjacency matrices, which are 2D arrays where each element indicates whether a pair of nodes is connected by an edge.\n",
    "\n",
    "Your task is to compute the pairwise distances between these graphs based on a specific distance metric. The distance $d(G, G')$ between two graphs $G = (V, E)$ and $G' = (V, E')$ is defined as the sum of the number of edges in $G$ but not in $G'$, and the number of edges in $G'$ but not in $G$. Mathematically, this can be expressed as:\n",
    "\n",
    "$$\n",
    "d(G, G') = |E \\setminus E'| + |E' \\setminus E|.\n",
    "$$\n",
    "\n",
    "##### Requirements:\n",
    "1. **Input**: Should take a list of 2D numpy arrays as input. Each array represents the adjacency matrix of a graph.\n",
    "\n",
    "2. **Output**: Should output a pairwise distance matrix. If there are $n$ graphs in the input list, the output should be an $n \\times n$ matrix where the entry at position $(i, j)$ represents the distance between the $i^{th}$ and $j^{th}$ graph."
   ]
  },
  {
   "cell_type": "code",
   "execution_count": 49,
   "metadata": {},
   "outputs": [
    {
     "name": "stdout",
     "output_type": "stream",
     "text": [
      "Pairwise Distance Matrix:\n",
      "[[0. 4. 4.]\n",
      " [4. 0. 4.]\n",
      " [4. 4. 0.]]\n"
     ]
    }
   ],
   "source": [
    "import numpy as np\n",
    "\n",
    "def pairwise_distance(adj_matrices):\n",
    "    num_graphs = len(adj_matrices)\n",
    "    distances = np.zeros((num_graphs, num_graphs))\n",
    "\n",
    "    for i in range(num_graphs):\n",
    "        for j in range(i + 1, num_graphs):\n",
    "            exclusive_edges = np.sum(adj_matrices[i]) + np.sum(adj_matrices[j]) - 2 * np.sum(np.logical_and(adj_matrices[i], adj_matrices[j]))\n",
    "            distances[i, j] = exclusive_edges\n",
    "            distances[j, i] = exclusive_edges\n",
    "\n",
    "    return distances\n",
    "\n",
    "adj_matrix1 = np.array([[0, 1, 1], [1, 0, 0], [1, 0, 0]])\n",
    "adj_matrix2 = np.array([[0, 1, 0], [1, 0, 1], [0, 1, 0]])\n",
    "adj_matrix3 = np.array([[0, 0, 1], [0, 0, 1], [1, 1, 0]])\n",
    "\n",
    "\n",
    "adj_matrices = [adj_matrix1, adj_matrix2, adj_matrix3]\n",
    "\n",
    "pairwise_distances = pairwise_distance(adj_matrices)\n",
    "\n",
    "print(\"Pairwise Distance Matrix:\")\n",
    "print(pairwise_distances)"
   ]
  },
  {
   "cell_type": "code",
   "execution_count": null,
   "metadata": {},
   "outputs": [],
   "source": []
  }
 ],
 "metadata": {
  "kernelspec": {
   "display_name": "Python 3 (ipykernel)",
   "language": "python",
   "name": "python3"
  },
  "language_info": {
   "codemirror_mode": {
    "name": "ipython",
    "version": 3
   },
   "file_extension": ".py",
   "mimetype": "text/x-python",
   "name": "python",
   "nbconvert_exporter": "python",
   "pygments_lexer": "ipython3",
   "version": "3.9.6"
  },
  "vscode": {
   "interpreter": {
    "hash": "76ca05dc3ea24b2e3b98cdb7774adfbb40773424bf5109b477fd793f623715af"
   }
  }
 },
 "nbformat": 4,
 "nbformat_minor": 4
}
